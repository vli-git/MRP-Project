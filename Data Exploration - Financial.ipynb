{
 "cells": [
  {
   "cell_type": "code",
   "execution_count": 1,
   "metadata": {
    "scrolled": true
   },
   "outputs": [
    {
     "data": {
      "text/html": [
       "<div>\n",
       "<style scoped>\n",
       "    .dataframe tbody tr th:only-of-type {\n",
       "        vertical-align: middle;\n",
       "    }\n",
       "\n",
       "    .dataframe tbody tr th {\n",
       "        vertical-align: top;\n",
       "    }\n",
       "\n",
       "    .dataframe thead th {\n",
       "        text-align: right;\n",
       "    }\n",
       "</style>\n",
       "<table border=\"1\" class=\"dataframe\">\n",
       "  <thead>\n",
       "    <tr style=\"text-align: right;\">\n",
       "      <th></th>\n",
       "      <th>Date</th>\n",
       "      <th>Open</th>\n",
       "      <th>High</th>\n",
       "      <th>Low</th>\n",
       "      <th>Close</th>\n",
       "      <th>Adj Close</th>\n",
       "      <th>Volume</th>\n",
       "    </tr>\n",
       "  </thead>\n",
       "  <tbody>\n",
       "    <tr>\n",
       "      <th>0</th>\n",
       "      <td>2016-01-04</td>\n",
       "      <td>2038.199951</td>\n",
       "      <td>2038.199951</td>\n",
       "      <td>1989.680054</td>\n",
       "      <td>2012.660034</td>\n",
       "      <td>2012.660034</td>\n",
       "      <td>4304880000</td>\n",
       "    </tr>\n",
       "    <tr>\n",
       "      <th>1</th>\n",
       "      <td>2016-01-05</td>\n",
       "      <td>2013.780029</td>\n",
       "      <td>2021.939941</td>\n",
       "      <td>2004.170044</td>\n",
       "      <td>2016.709961</td>\n",
       "      <td>2016.709961</td>\n",
       "      <td>3706620000</td>\n",
       "    </tr>\n",
       "    <tr>\n",
       "      <th>2</th>\n",
       "      <td>2016-01-06</td>\n",
       "      <td>2011.709961</td>\n",
       "      <td>2011.709961</td>\n",
       "      <td>1979.050049</td>\n",
       "      <td>1990.260010</td>\n",
       "      <td>1990.260010</td>\n",
       "      <td>4336660000</td>\n",
       "    </tr>\n",
       "    <tr>\n",
       "      <th>3</th>\n",
       "      <td>2016-01-07</td>\n",
       "      <td>1985.319946</td>\n",
       "      <td>1985.319946</td>\n",
       "      <td>1938.829956</td>\n",
       "      <td>1943.089966</td>\n",
       "      <td>1943.089966</td>\n",
       "      <td>5076590000</td>\n",
       "    </tr>\n",
       "    <tr>\n",
       "      <th>4</th>\n",
       "      <td>2016-01-08</td>\n",
       "      <td>1945.969971</td>\n",
       "      <td>1960.400024</td>\n",
       "      <td>1918.459961</td>\n",
       "      <td>1922.030029</td>\n",
       "      <td>1922.030029</td>\n",
       "      <td>4664940000</td>\n",
       "    </tr>\n",
       "  </tbody>\n",
       "</table>\n",
       "</div>"
      ],
      "text/plain": [
       "         Date         Open         High          Low        Close  \\\n",
       "0  2016-01-04  2038.199951  2038.199951  1989.680054  2012.660034   \n",
       "1  2016-01-05  2013.780029  2021.939941  2004.170044  2016.709961   \n",
       "2  2016-01-06  2011.709961  2011.709961  1979.050049  1990.260010   \n",
       "3  2016-01-07  1985.319946  1985.319946  1938.829956  1943.089966   \n",
       "4  2016-01-08  1945.969971  1960.400024  1918.459961  1922.030029   \n",
       "\n",
       "     Adj Close      Volume  \n",
       "0  2012.660034  4304880000  \n",
       "1  2016.709961  3706620000  \n",
       "2  1990.260010  4336660000  \n",
       "3  1943.089966  5076590000  \n",
       "4  1922.030029  4664940000  "
      ]
     },
     "execution_count": 1,
     "metadata": {},
     "output_type": "execute_result"
    }
   ],
   "source": [
    "import pandas as pd\n",
    "\n",
    "df = pd.read_csv('^GSPC.csv')\n",
    "df.head(5)"
   ]
  },
  {
   "cell_type": "code",
   "execution_count": 2,
   "metadata": {},
   "outputs": [
    {
     "data": {
      "text/plain": [
       "Date         0\n",
       "Open         0\n",
       "High         0\n",
       "Low          0\n",
       "Close        0\n",
       "Adj Close    0\n",
       "Volume       0\n",
       "dtype: int64"
      ]
     },
     "execution_count": 2,
     "metadata": {},
     "output_type": "execute_result"
    }
   ],
   "source": [
    "#check missing values\n",
    "df.isnull().sum()"
   ]
  },
  {
   "cell_type": "code",
   "execution_count": 3,
   "metadata": {},
   "outputs": [],
   "source": [
    "#Calculate Volumes in the 10,000s\n",
    "Volume_0000s =df.Volume/10000\n",
    "df['Volume_0000s'] = Volume_0000s"
   ]
  },
  {
   "cell_type": "code",
   "execution_count": 4,
   "metadata": {},
   "outputs": [],
   "source": [
    "#extract the year from the date\n",
    "year = [date[:4] for date in df.Date]\n",
    "df['Year'] = year"
   ]
  },
  {
   "cell_type": "code",
   "execution_count": 5,
   "metadata": {
    "scrolled": false
   },
   "outputs": [
    {
     "data": {
      "text/plain": [
       "<Figure size 1500x500 with 1 Axes>"
      ]
     },
     "metadata": {},
     "output_type": "display_data"
    }
   ],
   "source": [
    "#plot trading volumes\n",
    "import numpy as np\n",
    "from matplotlib import pyplot as plt\n",
    "from matplotlib.ticker import (MultipleLocator, MaxNLocator)\n",
    "import seaborn as sns\n",
    "sns.set()\n",
    "fig, ax = plt.subplots(figsize=(15, 5))\n",
    "ax.plot(df.Date,df.Volume_0000s,color=\"navy\")\n",
    "ax.xaxis.set_major_locator(MaxNLocator())\n",
    "plt.title(\"Daily Volume ('0000s)\",fontsize='x-large')\n",
    "plt.show()\n"
   ]
  },
  {
   "cell_type": "markdown",
   "metadata": {},
   "source": [
    "## Get Descriptive Statistics"
   ]
  },
  {
   "cell_type": "code",
   "execution_count": 6,
   "metadata": {
    "scrolled": false
   },
   "outputs": [
    {
     "data": {
      "text/plain": [
       "count      1068.000000\n",
       "mean     371047.732210\n",
       "std       88460.902909\n",
       "min      129654.000000\n",
       "25%      324340.000000\n",
       "50%      353702.500000\n",
       "75%      390511.250000\n",
       "max      904469.000000\n",
       "Name: Volume_0000s, dtype: float64"
      ]
     },
     "execution_count": 6,
     "metadata": {},
     "output_type": "execute_result"
    }
   ],
   "source": [
    "#get descriptive statistics\n",
    "df.Volume_0000s.describe()"
   ]
  },
  {
   "cell_type": "code",
   "execution_count": 7,
   "metadata": {
    "scrolled": true
   },
   "outputs": [
    {
     "data": {
      "text/plain": [
       "Open           -0.810579\n",
       "High           -0.832859\n",
       "Low            -0.780518\n",
       "Close          -0.806468\n",
       "Adj Close      -0.806468\n",
       "Volume          9.494637\n",
       "Volume_0000s    9.494637\n",
       "Year           -1.118145\n",
       "dtype: float64"
      ]
     },
     "execution_count": 7,
     "metadata": {},
     "output_type": "execute_result"
    }
   ],
   "source": [
    "df.kurtosis(axis=0)"
   ]
  },
  {
   "cell_type": "code",
   "execution_count": 8,
   "metadata": {
    "scrolled": true
   },
   "outputs": [
    {
     "data": {
      "text/plain": [
       "0.05    282199.1\n",
       "0.50    353702.5\n",
       "0.95    528427.9\n",
       "Name: Volume_0000s, dtype: float64"
      ]
     },
     "execution_count": 8,
     "metadata": {},
     "output_type": "execute_result"
    }
   ],
   "source": [
    "df['Volume_0000s'].quantile([.05, 0.5, .95])"
   ]
  },
  {
   "cell_type": "code",
   "execution_count": 9,
   "metadata": {},
   "outputs": [
    {
     "data": {
      "text/plain": [
       "Open           -0.053811\n",
       "High           -0.058821\n",
       "Low            -0.050886\n",
       "Close          -0.053538\n",
       "Adj Close      -0.053538\n",
       "Volume          2.432474\n",
       "Volume_0000s    2.432474\n",
       "Year            0.129047\n",
       "dtype: float64"
      ]
     },
     "execution_count": 9,
     "metadata": {},
     "output_type": "execute_result"
    }
   ],
   "source": [
    "df.skew(axis=0)"
   ]
  },
  {
   "cell_type": "code",
   "execution_count": 10,
   "metadata": {
    "scrolled": false
   },
   "outputs": [
    {
     "data": {
      "image/png": "[encoded data removed]",
      "text/plain": [
       "<Figure size 720x576 with 1 Axes>"
      ]
     },
     "metadata": {
      "needs_background": "light"
     },
     "output_type": "display_data"
    }
   ],
   "source": [
    "#plot boxplot to better understand the volume distribution\n",
    "import seaborn as sns\n",
    "\n",
    "fig,ax = plt.subplots(figsize=(10,8))\n",
    "ax = sns.boxplot( y=\"Volume_0000s\", data=df)\n",
    "plt.ylabel(\"Volume ('0000s)\",fontsize='large')\n",
    "plt.title('Volumes Distribution',fontsize='x-large')\n",
    "plt.show()\n"
   ]
  },
  {
   "cell_type": "code",
   "execution_count": 12,
   "metadata": {
    "scrolled": true
   },
   "outputs": [
    {
     "data": {
      "image/png": "[encoded data removed]",
      "text/plain": [
       "<Figure size 1080x360 with 1 Axes>"
      ]
     },
     "metadata": {
      "needs_background": "light"
     },
     "output_type": "display_data"
    }
   ],
   "source": [
    "#day over day volume change\n",
    "\n",
    "df_change = df.shift(-1)\n",
    "df_change = df_change[:len(df_change)-1]\n",
    "Volume_change = ((df.Volume/df.shift(-1).Volume)-1)\n",
    "df_change['volume_change'] = Volume_change\n",
    "#df_change['volume_change'] = df_change['volume_change'].map(lambda n: '{:,.2%}'.format(n))\n",
    "df_change[:len(df_change)-1] \n",
    "\n",
    "\n",
    "#plot volume day over day change\n",
    "\n",
    "fig, ax = plt.subplots(figsize=(15, 5))\n",
    "ax.plot(df_change.Date,df_change.volume_change,color=\"navy\")\n",
    "ax.xaxis.set_major_locator(MaxNLocator())\n",
    "vals = ax.get_yticks()\n",
    "ax.set_yticklabels(['{:,.2%}'.format(x) for x in vals])\n",
    "plt.title('Daily Volume Change (%)',fontsize='x-large')\n",
    "plt.show()\n"
   ]
  },
  {
   "cell_type": "markdown",
   "metadata": {},
   "source": [
    "## Split Dataset into Train and Test Set\n",
    "- 5 datasets for cross-validation\n",
    "- 3 datasets for testing"
   ]
  },
  {
   "cell_type": "code",
   "execution_count": 5,
   "metadata": {},
   "outputs": [],
   "source": [
    "import math\n",
    "import numpy as np\n",
    "df_change = df.shift(-1)\n",
    "df_change['log_change']= np.log(df.shift(-1).Volume/df.Volume)\n",
    "df_change['change']= (df.shift(-1).Volume/df.Volume)\n",
    "df_change=df_change.dropna()\n",
    "df_change['year']=pd.DatetimeIndex(df_change['Date']).year\n",
    "#df_change = df_change[df_change['year']>=2018]\n",
    "df_change = df_change[df_change['year']<2018]"
   ]
  },
  {
   "cell_type": "code",
   "execution_count": 30,
   "metadata": {},
   "outputs": [],
   "source": [
    "i=0   \n",
    "for i in range(len(X_train)):\n",
    "    df_train=pd.DataFrame({'date':X_train[i],'log_change':y_train[i]})\n",
    "    df_test=pd.DataFrame({'date':X_test[i],'log_change':y_test[i]})\n",
    "   \n",
    "    df_train.to_csv(\"df_train\"+str(i+1)+\"_slide.csv\",header=True)\n",
    "    df_test.to_csv(\"df_test\"+str(i+1)+\"_slide.csv\",header=True)\n",
    "    i+=1"
   ]
  },
  {
   "cell_type": "code",
   "execution_count": 28,
   "metadata": {
    "scrolled": true
   },
   "outputs": [
    {
     "name": "stdout",
     "output_type": "stream",
     "text": [
      "(array([  0,   1,   2,   3,   4,   5,   6,   7,   8,   9,  10,  11,  12,\n",
      "        13,  14,  15,  16,  17,  18,  19,  20,  21,  22,  23,  24,  25,\n",
      "        26,  27,  28,  29,  30,  31,  32,  33,  34,  35,  36,  37,  38,\n",
      "        39,  40,  41,  42,  43,  44,  45,  46,  47,  48,  49,  50,  51,\n",
      "        52,  53,  54,  55,  56,  57,  58,  59,  60,  61,  62,  63,  64,\n",
      "        65,  66,  67,  68,  69,  70,  71,  72,  73,  74,  75,  76,  77,\n",
      "        78,  79,  80,  81,  82,  83,  84,  85,  86,  87,  88,  89,  90,\n",
      "        91,  92,  93,  94,  95,  96,  97,  98,  99, 100, 101, 102, 103,\n",
      "       104, 105, 106, 107, 108, 109, 110, 111, 112, 113, 114, 115, 116,\n",
      "       117, 118, 119, 120, 121, 122, 123, 124, 125, 126, 127, 128, 129,\n",
      "       130, 131, 132, 133, 134, 135, 136, 137, 138, 139, 140, 141, 142,\n",
      "       143, 144, 145, 146, 147, 148, 149, 150, 151, 152, 153, 154, 155,\n",
      "       156, 157, 158, 159, 160, 161, 162, 163, 164, 165, 166, 167, 168,\n",
      "       169, 170, 171, 172, 173, 174, 175, 176, 177, 178, 179, 180, 181,\n",
      "       182, 183, 184, 185, 186, 187, 188, 189, 190, 191, 192, 193, 194,\n",
      "       195, 196, 197, 198, 199, 200, 201, 202, 203, 204, 205, 206, 207,\n",
      "       208, 209, 210, 211, 212, 213, 214, 215, 216, 217, 218, 219, 220,\n",
      "       221, 222, 223, 224, 225, 226, 227, 228, 229, 230, 231, 232, 233,\n",
      "       234, 235, 236, 237, 238, 239, 240, 241, 242, 243, 244, 245, 246,\n",
      "       247, 248, 249, 250, 251, 252, 253, 254, 255, 256, 257, 258, 259,\n",
      "       260, 261, 262, 263, 264, 265, 266, 267, 268, 269, 270, 271, 272,\n",
      "       273]), array([274, 275, 276, 277, 278, 279, 280, 281, 282, 283, 284, 285, 286,\n",
      "       287, 288, 289, 290, 291, 292, 293, 294, 295, 296, 297, 298, 299,\n",
      "       300, 301, 302, 303, 304, 305, 306, 307, 308, 309, 310, 311, 312,\n",
      "       313, 314, 315, 316, 317, 318, 319, 320, 321, 322, 323, 324, 325,\n",
      "       326, 327, 328, 329, 330, 331, 332, 333]))\n",
      "(array([ 61,  62,  63,  64,  65,  66,  67,  68,  69,  70,  71,  72,  73,\n",
      "        74,  75,  76,  77,  78,  79,  80,  81,  82,  83,  84,  85,  86,\n",
      "        87,  88,  89,  90,  91,  92,  93,  94,  95,  96,  97,  98,  99,\n",
      "       100, 101, 102, 103, 104, 105, 106, 107, 108, 109, 110, 111, 112,\n",
      "       113, 114, 115, 116, 117, 118, 119, 120, 121, 122, 123, 124, 125,\n",
      "       126, 127, 128, 129, 130, 131, 132, 133, 134, 135, 136, 137, 138,\n",
      "       139, 140, 141, 142, 143, 144, 145, 146, 147, 148, 149, 150, 151,\n",
      "       152, 153, 154, 155, 156, 157, 158, 159, 160, 161, 162, 163, 164,\n",
      "       165, 166, 167, 168, 169, 170, 171, 172, 173, 174, 175, 176, 177,\n",
      "       178, 179, 180, 181, 182, 183, 184, 185, 186, 187, 188, 189, 190,\n",
      "       191, 192, 193, 194, 195, 196, 197, 198, 199, 200, 201, 202, 203,\n",
      "       204, 205, 206, 207, 208, 209, 210, 211, 212, 213, 214, 215, 216,\n",
      "       217, 218, 219, 220, 221, 222, 223, 224, 225, 226, 227, 228, 229,\n",
      "       230, 231, 232, 233, 234, 235, 236, 237, 238, 239, 240, 241, 242,\n",
      "       243, 244, 245, 246, 247, 248, 249, 250, 251, 252, 253, 254, 255,\n",
      "       256, 257, 258, 259, 260, 261, 262, 263, 264, 265, 266, 267, 268,\n",
      "       269, 270, 271, 272, 273, 274, 275, 276, 277, 278, 279, 280, 281,\n",
      "       282, 283, 284, 285, 286, 287, 288, 289, 290, 291, 292, 293, 294,\n",
      "       295, 296, 297, 298, 299, 300, 301, 302, 303, 304, 305, 306, 307,\n",
      "       308, 309, 310, 311, 312, 313, 314, 315, 316, 317, 318, 319, 320,\n",
      "       321, 322, 323, 324, 325, 326, 327, 328, 329, 330, 331, 332, 333,\n",
      "       334]), array([335, 336, 337, 338, 339, 340, 341, 342, 343, 344, 345, 346, 347,\n",
      "       348, 349, 350, 351, 352, 353, 354, 355, 356, 357, 358, 359, 360,\n",
      "       361, 362, 363, 364, 365, 366, 367, 368, 369, 370, 371, 372, 373,\n",
      "       374, 375, 376, 377, 378, 379, 380, 381, 382, 383, 384, 385, 386,\n",
      "       387, 388, 389, 390, 391, 392, 393, 394]))\n",
      "(array([122, 123, 124, 125, 126, 127, 128, 129, 130, 131, 132, 133, 134,\n",
      "       135, 136, 137, 138, 139, 140, 141, 142, 143, 144, 145, 146, 147,\n",
      "       148, 149, 150, 151, 152, 153, 154, 155, 156, 157, 158, 159, 160,\n",
      "       161, 162, 163, 164, 165, 166, 167, 168, 169, 170, 171, 172, 173,\n",
      "       174, 175, 176, 177, 178, 179, 180, 181, 182, 183, 184, 185, 186,\n",
      "       187, 188, 189, 190, 191, 192, 193, 194, 195, 196, 197, 198, 199,\n",
      "       200, 201, 202, 203, 204, 205, 206, 207, 208, 209, 210, 211, 212,\n",
      "       213, 214, 215, 216, 217, 218, 219, 220, 221, 222, 223, 224, 225,\n",
      "       226, 227, 228, 229, 230, 231, 232, 233, 234, 235, 236, 237, 238,\n",
      "       239, 240, 241, 242, 243, 244, 245, 246, 247, 248, 249, 250, 251,\n",
      "       252, 253, 254, 255, 256, 257, 258, 259, 260, 261, 262, 263, 264,\n",
      "       265, 266, 267, 268, 269, 270, 271, 272, 273, 274, 275, 276, 277,\n",
      "       278, 279, 280, 281, 282, 283, 284, 285, 286, 287, 288, 289, 290,\n",
      "       291, 292, 293, 294, 295, 296, 297, 298, 299, 300, 301, 302, 303,\n",
      "       304, 305, 306, 307, 308, 309, 310, 311, 312, 313, 314, 315, 316,\n",
      "       317, 318, 319, 320, 321, 322, 323, 324, 325, 326, 327, 328, 329,\n",
      "       330, 331, 332, 333, 334, 335, 336, 337, 338, 339, 340, 341, 342,\n",
      "       343, 344, 345, 346, 347, 348, 349, 350, 351, 352, 353, 354, 355,\n",
      "       356, 357, 358, 359, 360, 361, 362, 363, 364, 365, 366, 367, 368,\n",
      "       369, 370, 371, 372, 373, 374, 375, 376, 377, 378, 379, 380, 381,\n",
      "       382, 383, 384, 385, 386, 387, 388, 389, 390, 391, 392, 393, 394,\n",
      "       395]), array([396, 397, 398, 399, 400, 401, 402, 403, 404, 405, 406, 407, 408,\n",
      "       409, 410, 411, 412, 413, 414, 415, 416, 417, 418, 419, 420, 421,\n",
      "       422, 423, 424, 425, 426, 427, 428, 429, 430, 431, 432, 433, 434,\n",
      "       435, 436, 437, 438, 439, 440, 441, 442, 443, 444, 445, 446, 447,\n",
      "       448, 449, 450, 451, 452, 453, 454, 455]))\n"
     ]
    }
   ],
   "source": [
    "import numpy as np\n",
    "\n",
    "data = list(range(502)) #for year 2016-2017\n",
    "#data = list(range(565)) #for year 2018+\n",
    "window_size = 274 \n",
    "splits = []\n",
    "j=0\n",
    "#create sliding window datasets so that each dataset is of equal size - by index\n",
    "#dataset \"slides\" forward 60 days for every sequential dataset\n",
    "for i in range(window_size, len(data)):\n",
    "    train = np.array(data[i-window_size+j:i+j])\n",
    "    test = np.array(data[i+j:i+60+j]) #Test set of 60 days\n",
    "    splits.append((train, test))\n",
    "    j+=60\n",
    "# View result\n",
    "for a_tuple in splits[:3]:\n",
    "    print(a_tuple)"
   ]
  },
  {
   "cell_type": "code",
   "execution_count": 33,
   "metadata": {},
   "outputs": [],
   "source": [
    "X_train=[[] for i in range(4)]\n",
    "X_test = [[] for i in range(4)]\n",
    "y_train = [[] for i in range(4)]\n",
    "y_test = [[] for i in range(4)]\n",
    "i=0\n",
    "\n",
    "#split data into train and test set based on index\n",
    "\n",
    "for train_index, test_index in splits[:4]:\n",
    "\n",
    "    X_train[i], X_test[i] = X[train_index], X[test_index]\n",
    "    y_train[i], y_test[i] = y[train_index], y[test_index]\n",
    "    i+=1"
   ]
  },
  {
   "cell_type": "code",
   "execution_count": 36,
   "metadata": {
    "scrolled": true
   },
   "outputs": [
    {
     "data": {
      "text/plain": [
       "array(['2016-01-05', '2016-01-06', '2016-01-07', '2016-01-08',\n",
       "       '2016-01-11', '2016-01-12', '2016-01-13', '2016-01-14',\n",
       "       '2016-01-15', '2016-01-19', '2016-01-20', '2016-01-21',\n",
       "       '2016-01-22', '2016-01-25', '2016-01-26', '2016-01-27',\n",
       "       '2016-01-28', '2016-01-29', '2016-02-01', '2016-02-02',\n",
       "       '2016-02-03', '2016-02-04', '2016-02-05', '2016-02-08',\n",
       "       '2016-02-09', '2016-02-10', '2016-02-11', '2016-02-12',\n",
       "       '2016-02-16', '2016-02-17', '2016-02-18', '2016-02-19',\n",
       "       '2016-02-22', '2016-02-23', '2016-02-24', '2016-02-25',\n",
       "       '2016-02-26', '2016-02-29', '2016-03-01', '2016-03-02',\n",
       "       '2016-03-03', '2016-03-04', '2016-03-07', '2016-03-08',\n",
       "       '2016-03-09', '2016-03-10', '2016-03-11', '2016-03-14',\n",
       "       '2016-03-15', '2016-03-16', '2016-03-17', '2016-03-18',\n",
       "       '2016-03-21', '2016-03-22', '2016-03-23', '2016-03-24',\n",
       "       '2016-03-28', '2016-03-29', '2016-03-30', '2016-03-31',\n",
       "       '2016-04-01', '2016-04-04', '2016-04-05', '2016-04-06',\n",
       "       '2016-04-07', '2016-04-08', '2016-04-11', '2016-04-12',\n",
       "       '2016-04-13', '2016-04-14', '2016-04-15', '2016-04-18',\n",
       "       '2016-04-19', '2016-04-20', '2016-04-21', '2016-04-22',\n",
       "       '2016-04-25', '2016-04-26', '2016-04-27', '2016-04-28',\n",
       "       '2016-04-29', '2016-05-02', '2016-05-03', '2016-05-04',\n",
       "       '2016-05-05', '2016-05-06', '2016-05-09', '2016-05-10',\n",
       "       '2016-05-11', '2016-05-12', '2016-05-13', '2016-05-16',\n",
       "       '2016-05-17', '2016-05-18', '2016-05-19', '2016-05-20',\n",
       "       '2016-05-23', '2016-05-24', '2016-05-25', '2016-05-26',\n",
       "       '2016-05-27', '2016-05-31', '2016-06-01', '2016-06-02',\n",
       "       '2016-06-03', '2016-06-06', '2016-06-07', '2016-06-08',\n",
       "       '2016-06-09', '2016-06-10', '2016-06-13', '2016-06-14',\n",
       "       '2016-06-15', '2016-06-16', '2016-06-17', '2016-06-20',\n",
       "       '2016-06-21', '2016-06-22', '2016-06-23', '2016-06-24',\n",
       "       '2016-06-27', '2016-06-28', '2016-06-29', '2016-06-30',\n",
       "       '2016-07-01', '2016-07-05', '2016-07-06', '2016-07-07',\n",
       "       '2016-07-08', '2016-07-11', '2016-07-12', '2016-07-13',\n",
       "       '2016-07-14', '2016-07-15', '2016-07-18', '2016-07-19',\n",
       "       '2016-07-20', '2016-07-21', '2016-07-22', '2016-07-25',\n",
       "       '2016-07-26', '2016-07-27', '2016-07-28', '2016-07-29',\n",
       "       '2016-08-01', '2016-08-02', '2016-08-03', '2016-08-04',\n",
       "       '2016-08-05', '2016-08-08', '2016-08-09', '2016-08-10',\n",
       "       '2016-08-11', '2016-08-12', '2016-08-15', '2016-08-16',\n",
       "       '2016-08-17', '2016-08-18', '2016-08-19', '2016-08-22',\n",
       "       '2016-08-23', '2016-08-24', '2016-08-25', '2016-08-26',\n",
       "       '2016-08-29', '2016-08-30', '2016-08-31', '2016-09-01',\n",
       "       '2016-09-02', '2016-09-06', '2016-09-07', '2016-09-08',\n",
       "       '2016-09-09', '2016-09-12', '2016-09-13', '2016-09-14',\n",
       "       '2016-09-15', '2016-09-16', '2016-09-19', '2016-09-20',\n",
       "       '2016-09-21', '2016-09-22', '2016-09-23', '2016-09-26',\n",
       "       '2016-09-27', '2016-09-28', '2016-09-29', '2016-09-30',\n",
       "       '2016-10-03', '2016-10-04', '2016-10-05', '2016-10-06',\n",
       "       '2016-10-07', '2016-10-10', '2016-10-11', '2016-10-12',\n",
       "       '2016-10-13', '2016-10-14', '2016-10-17', '2016-10-18',\n",
       "       '2016-10-19', '2016-10-20', '2016-10-21', '2016-10-24',\n",
       "       '2016-10-25', '2016-10-26', '2016-10-27', '2016-10-28',\n",
       "       '2016-10-31', '2016-11-01', '2016-11-02', '2016-11-03',\n",
       "       '2016-11-04', '2016-11-07', '2016-11-08', '2016-11-09',\n",
       "       '2016-11-10', '2016-11-11', '2016-11-14', '2016-11-15',\n",
       "       '2016-11-16', '2016-11-17', '2016-11-18', '2016-11-21',\n",
       "       '2016-11-22', '2016-11-23', '2016-11-25', '2016-11-28',\n",
       "       '2016-11-29', '2016-11-30', '2016-12-01', '2016-12-02',\n",
       "       '2016-12-05', '2016-12-06', '2016-12-07', '2016-12-08',\n",
       "       '2016-12-09', '2016-12-12', '2016-12-13', '2016-12-14',\n",
       "       '2016-12-15', '2016-12-16', '2016-12-19', '2016-12-20',\n",
       "       '2016-12-21', '2016-12-22', '2016-12-23', '2016-12-27',\n",
       "       '2016-12-28', '2016-12-29', '2016-12-30', '2017-01-03',\n",
       "       '2017-01-04', '2017-01-05', '2017-01-06', '2017-01-09',\n",
       "       '2017-01-10', '2017-01-11', '2017-01-12', '2017-01-13',\n",
       "       '2017-01-17', '2017-01-18', '2017-01-19', '2017-01-20',\n",
       "       '2017-01-23', '2017-01-24', '2017-01-25', '2017-01-26',\n",
       "       '2017-01-27', '2017-01-30', '2017-01-31', '2017-02-01',\n",
       "       '2017-02-02', '2017-02-03'], dtype='<U10')"
      ]
     },
     "execution_count": 36,
     "metadata": {},
     "output_type": "execute_result"
    }
   ],
   "source": [
    "X_train[0]"
   ]
  },
  {
   "cell_type": "code",
   "execution_count": null,
   "metadata": {},
   "outputs": [],
   "source": [
    "#export train/test sets - for 2018+, 5 cross-validation datasets, 1 test dataset\n",
    "df_train1=pd.DataFrame({'date':X_train[0],'log_change':y_train[0]})\n",
    "df_train2=pd.DataFrame({'date':X_train[1],'log_change':y_train[1]})\n",
    "df_train3=pd.DataFrame({'date':X_train[2],'log_change':y_train[2]})\n",
    "df_train4=pd.DataFrame({'date':X_train[3],'log_change':y_train[3]})\n",
    "df_train5=pd.DataFrame({'date':X_train[4],'log_change':y_train[4]})\n",
    "df_train6=pd.DataFrame({'date':X_train[5],'log_change':y_train[5]})\n",
    "\n",
    "\n",
    "df_test1=pd.DataFrame({'date':X_test[0],'log_change':y_test[0]})\n",
    "df_test2=pd.DataFrame({'date':X_test[1],'log_change':y_test[1]})\n",
    "df_test3=pd.DataFrame({'date':X_test[2],'log_change':y_test[2]})\n",
    "df_test4=pd.DataFrame({'date':X_test[3],'log_change':y_test[3]})\n",
    "df_test5=pd.DataFrame({'date':X_test[4],'log_change':y_test[4]})\n",
    "df_test6=pd.DataFrame({'date':X_test[5],'log_change':y_test[5]})"
   ]
  },
  {
   "cell_type": "code",
   "execution_count": 37,
   "metadata": {},
   "outputs": [],
   "source": [
    "#get 2 test datasets for 2016/2017\n",
    "i=0   \n",
    "for i in range(len(X_train)):\n",
    "    df_train=pd.DataFrame({'date':X_train[i],'log_change':y_train[i]})\n",
    "    df_test=pd.DataFrame({'date':X_test[i],'log_change':y_test[i]})\n",
    "   \n",
    "    df_train.to_csv(\"df_train\"+str(i+1)+\"_0.75year_2016.csv\",header=True)\n",
    "    df_test.to_csv(\"df_test\"+str(i+1)+\"_0.75year_2016.csv\",header=True)\n",
    "    i+=1"
   ]
  },
  {
   "cell_type": "code",
   "execution_count": null,
   "metadata": {},
   "outputs": [],
   "source": []
  }
 ],
 "metadata": {
  "kernelspec": {
   "display_name": "Python 3",
   "language": "python",
   "name": "python3"
  },
  "language_info": {
   "codemirror_mode": {
    "name": "ipython",
    "version": 3
   },
   "file_extension": ".py",
   "mimetype": "text/x-python",
   "name": "python",
   "nbconvert_exporter": "python",
   "pygments_lexer": "ipython3",
   "version": "3.7.0"
  }
 },
 "nbformat": 4,
 "nbformat_minor": 2
}
